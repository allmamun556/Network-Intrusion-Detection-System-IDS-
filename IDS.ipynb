{
 "cells": [
  {
   "cell_type": "code",
   "execution_count": 1,
   "metadata": {},
   "outputs": [],
   "source": [
    "import pandas as pd\n",
    "import numpy as np"
   ]
  },
  {
   "cell_type": "code",
   "execution_count": 2,
   "metadata": {},
   "outputs": [],
   "source": [
    "#path = 'UNSW 15 Data/UNSW-NB15_{}.csv' "
   ]
  },
  {
   "cell_type": "code",
   "execution_count": 3,
   "metadata": {},
   "outputs": [
    {
     "name": "stdout",
     "output_type": "stream",
     "text": [
      "UNSW 15 Data/UNSW-NB15_{}.csv\n"
     ]
    }
   ],
   "source": [
    "print(path)"
   ]
  },
  {
   "cell_type": "code",
   "execution_count": 6,
   "metadata": {},
   "outputs": [],
   "source": [
    "train=pd.read_csv('UNSW 15 Data/train.csv')"
   ]
  },
  {
   "cell_type": "code",
   "execution_count": 7,
   "metadata": {},
   "outputs": [
    {
     "data": {
      "text/html": [
       "<div>\n",
       "<style scoped>\n",
       "    .dataframe tbody tr th:only-of-type {\n",
       "        vertical-align: middle;\n",
       "    }\n",
       "\n",
       "    .dataframe tbody tr th {\n",
       "        vertical-align: top;\n",
       "    }\n",
       "\n",
       "    .dataframe thead th {\n",
       "        text-align: right;\n",
       "    }\n",
       "</style>\n",
       "<table border=\"1\" class=\"dataframe\">\n",
       "  <thead>\n",
       "    <tr style=\"text-align: right;\">\n",
       "      <th></th>\n",
       "      <th>dur</th>\n",
       "      <th>proto</th>\n",
       "      <th>service</th>\n",
       "      <th>state</th>\n",
       "      <th>rate</th>\n",
       "      <th>sttl</th>\n",
       "      <th>dttl</th>\n",
       "      <th>sjit</th>\n",
       "      <th>djit</th>\n",
       "      <th>swin</th>\n",
       "      <th>...</th>\n",
       "      <th>dpkts_log1p</th>\n",
       "      <th>sloss_log1p</th>\n",
       "      <th>dloss_log1p</th>\n",
       "      <th>stcpb_log1p</th>\n",
       "      <th>dtcpb_log1p</th>\n",
       "      <th>response_body_len_log1p</th>\n",
       "      <th>sinpkt_log1p</th>\n",
       "      <th>dinpkt_log1p</th>\n",
       "      <th>sload_log1p</th>\n",
       "      <th>dload_log1p</th>\n",
       "    </tr>\n",
       "  </thead>\n",
       "  <tbody>\n",
       "    <tr>\n",
       "      <th>0</th>\n",
       "      <td>0.121478</td>\n",
       "      <td>tcp</td>\n",
       "      <td>-</td>\n",
       "      <td>FIN</td>\n",
       "      <td>74.087490</td>\n",
       "      <td>252</td>\n",
       "      <td>254</td>\n",
       "      <td>30.177547</td>\n",
       "      <td>11.830604</td>\n",
       "      <td>2.0</td>\n",
       "      <td>...</td>\n",
       "      <td>1.609438</td>\n",
       "      <td>0.000000</td>\n",
       "      <td>0.000000</td>\n",
       "      <td>20.248085</td>\n",
       "      <td>21.512874</td>\n",
       "      <td>0.0</td>\n",
       "      <td>3.230630</td>\n",
       "      <td>2.238047</td>\n",
       "      <td>9.558172</td>\n",
       "      <td>9.047394</td>\n",
       "    </tr>\n",
       "    <tr>\n",
       "      <th>1</th>\n",
       "      <td>0.649902</td>\n",
       "      <td>tcp</td>\n",
       "      <td>-</td>\n",
       "      <td>FIN</td>\n",
       "      <td>78.473370</td>\n",
       "      <td>62</td>\n",
       "      <td>252</td>\n",
       "      <td>61.426933</td>\n",
       "      <td>1387.778300</td>\n",
       "      <td>2.0</td>\n",
       "      <td>...</td>\n",
       "      <td>3.663562</td>\n",
       "      <td>1.098612</td>\n",
       "      <td>2.890372</td>\n",
       "      <td>21.072432</td>\n",
       "      <td>21.847347</td>\n",
       "      <td>0.0</td>\n",
       "      <td>3.930158</td>\n",
       "      <td>2.799283</td>\n",
       "      <td>9.035524</td>\n",
       "      <td>13.129482</td>\n",
       "    </tr>\n",
       "    <tr>\n",
       "      <th>2</th>\n",
       "      <td>1.623129</td>\n",
       "      <td>tcp</td>\n",
       "      <td>-</td>\n",
       "      <td>FIN</td>\n",
       "      <td>14.170161</td>\n",
       "      <td>62</td>\n",
       "      <td>252</td>\n",
       "      <td>17179.586000</td>\n",
       "      <td>11420.926000</td>\n",
       "      <td>2.0</td>\n",
       "      <td>...</td>\n",
       "      <td>2.833213</td>\n",
       "      <td>0.693147</td>\n",
       "      <td>1.945910</td>\n",
       "      <td>21.472865</td>\n",
       "      <td>21.809507</td>\n",
       "      <td>0.0</td>\n",
       "      <td>5.450504</td>\n",
       "      <td>4.641861</td>\n",
       "      <td>7.360913</td>\n",
       "      <td>11.017485</td>\n",
       "    </tr>\n",
       "    <tr>\n",
       "      <th>3</th>\n",
       "      <td>1.681642</td>\n",
       "      <td>tcp</td>\n",
       "      <td>ftp</td>\n",
       "      <td>FIN</td>\n",
       "      <td>13.677108</td>\n",
       "      <td>62</td>\n",
       "      <td>252</td>\n",
       "      <td>259.080170</td>\n",
       "      <td>4991.784700</td>\n",
       "      <td>2.0</td>\n",
       "      <td>...</td>\n",
       "      <td>2.564949</td>\n",
       "      <td>0.693147</td>\n",
       "      <td>1.386294</td>\n",
       "      <td>20.825027</td>\n",
       "      <td>20.769618</td>\n",
       "      <td>0.0</td>\n",
       "      <td>5.036150</td>\n",
       "      <td>4.513446</td>\n",
       "      <td>7.916143</td>\n",
       "      <td>8.119584</td>\n",
       "    </tr>\n",
       "    <tr>\n",
       "      <th>4</th>\n",
       "      <td>0.449454</td>\n",
       "      <td>tcp</td>\n",
       "      <td>-</td>\n",
       "      <td>FIN</td>\n",
       "      <td>33.373825</td>\n",
       "      <td>254</td>\n",
       "      <td>252</td>\n",
       "      <td>2415.837600</td>\n",
       "      <td>115.807000</td>\n",
       "      <td>2.0</td>\n",
       "      <td>...</td>\n",
       "      <td>1.945910</td>\n",
       "      <td>1.098612</td>\n",
       "      <td>0.693147</td>\n",
       "      <td>21.613680</td>\n",
       "      <td>21.404924</td>\n",
       "      <td>0.0</td>\n",
       "      <td>3.886712</td>\n",
       "      <td>4.339375</td>\n",
       "      <td>9.055147</td>\n",
       "      <td>8.291060</td>\n",
       "    </tr>\n",
       "  </tbody>\n",
       "</table>\n",
       "<p>5 rows × 40 columns</p>\n",
       "</div>"
      ],
      "text/plain": [
       "        dur proto service state       rate  sttl  dttl          sjit  \\\n",
       "0  0.121478   tcp       -   FIN  74.087490   252   254     30.177547   \n",
       "1  0.649902   tcp       -   FIN  78.473370    62   252     61.426933   \n",
       "2  1.623129   tcp       -   FIN  14.170161    62   252  17179.586000   \n",
       "3  1.681642   tcp     ftp   FIN  13.677108    62   252    259.080170   \n",
       "4  0.449454   tcp       -   FIN  33.373825   254   252   2415.837600   \n",
       "\n",
       "           djit  swin  ...  dpkts_log1p  sloss_log1p  dloss_log1p  \\\n",
       "0     11.830604   2.0  ...     1.609438     0.000000     0.000000   \n",
       "1   1387.778300   2.0  ...     3.663562     1.098612     2.890372   \n",
       "2  11420.926000   2.0  ...     2.833213     0.693147     1.945910   \n",
       "3   4991.784700   2.0  ...     2.564949     0.693147     1.386294   \n",
       "4    115.807000   2.0  ...     1.945910     1.098612     0.693147   \n",
       "\n",
       "   stcpb_log1p  dtcpb_log1p  response_body_len_log1p  sinpkt_log1p  \\\n",
       "0    20.248085    21.512874                      0.0      3.230630   \n",
       "1    21.072432    21.847347                      0.0      3.930158   \n",
       "2    21.472865    21.809507                      0.0      5.450504   \n",
       "3    20.825027    20.769618                      0.0      5.036150   \n",
       "4    21.613680    21.404924                      0.0      3.886712   \n",
       "\n",
       "   dinpkt_log1p  sload_log1p  dload_log1p  \n",
       "0      2.238047     9.558172     9.047394  \n",
       "1      2.799283     9.035524    13.129482  \n",
       "2      4.641861     7.360913    11.017485  \n",
       "3      4.513446     7.916143     8.119584  \n",
       "4      4.339375     9.055147     8.291060  \n",
       "\n",
       "[5 rows x 40 columns]"
      ]
     },
     "execution_count": 7,
     "metadata": {},
     "output_type": "execute_result"
    }
   ],
   "source": [
    "train.head()"
   ]
  },
  {
   "cell_type": "code",
   "execution_count": 15,
   "metadata": {},
   "outputs": [
    {
     "name": "stdout",
     "output_type": "stream",
     "text": [
      "40\n"
     ]
    }
   ],
   "source": [
    "train.columns\n",
    "print(len(train.columns))\n"
   ]
  },
  {
   "cell_type": "code",
   "execution_count": 17,
   "metadata": {},
   "outputs": [
    {
     "data": {
      "text/plain": [
       "175341"
      ]
     },
     "execution_count": 17,
     "metadata": {},
     "output_type": "execute_result"
    }
   ],
   "source": [
    "len(train.index) # total number of row "
   ]
  },
  {
   "cell_type": "code",
   "execution_count": null,
   "metadata": {},
   "outputs": [],
   "source": [
    "# Now I will do clening, pre-prossing or any other  operation only in  training data not in in test data"
   ]
  }
 ],
 "metadata": {
  "kernelspec": {
   "display_name": "Python 3",
   "language": "python",
   "name": "python3"
  },
  "language_info": {
   "codemirror_mode": {
    "name": "ipython",
    "version": 3
   },
   "file_extension": ".py",
   "mimetype": "text/x-python",
   "name": "python",
   "nbconvert_exporter": "python",
   "pygments_lexer": "ipython3",
   "version": "3.8.3"
  }
 },
 "nbformat": 4,
 "nbformat_minor": 4
}
